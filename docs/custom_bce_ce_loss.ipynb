{
 "cells": [
  {
   "cell_type": "code",
   "execution_count": 1,
   "metadata": {},
   "outputs": [],
   "source": [
    "import torch\n",
    "import torch.nn as nn\n",
    "import torch.nn.functional as F"
   ]
  },
  {
   "cell_type": "markdown",
   "metadata": {},
   "source": [
    "## sumstom cross-entropy loss\n",
    "\n",
    "$\\text{loss}(x, class) = -\\log\\left(\\frac{\\exp(x[class])}{\\sum_j \\exp(x[j])}\\right)\n",
    "                       = -x[class] + \\log\\left(\\sum_j \\exp(x[j])\\right)$"
   ]
  },
  {
   "cell_type": "code",
   "execution_count": 2,
   "metadata": {},
   "outputs": [],
   "source": [
    "def cross_entropy_loss(input, target, use_logit=False):\n",
    "    \n",
    "    if use_logit:\n",
    "        input = torch.softmax(input, dim=1)\n",
    "\n",
    "    target = F.one_hot(target)\n",
    "\n",
    "    output = - target * torch.log(input)\n",
    "\n",
    "    output = torch.sum(output, dim=1)\n",
    "\n",
    "    return torch.mean(output)\n"
   ]
  },
  {
   "cell_type": "markdown",
   "metadata": {},
   "source": [
    "## cumstom binary-cross-entropy loss\n",
    "\n",
    "$\\ell(x, y) = L = \\{l_1,\\dots,l_N\\}^\\top, \\quad$\n",
    "\n",
    "$l_n = - w_n \\left[ y_n \\cdot \\log x_n + (1 - y_n) \\cdot \\log (1 - x_n) \\right],$"
   ]
  },
  {
   "cell_type": "code",
   "execution_count": 3,
   "metadata": {},
   "outputs": [],
   "source": [
    "def binary_cross_entropy_loss(input, target, use_logit=False):\n",
    "    \"\"\"\n",
    "    -(y_n * ln(x_n) + (1 - y_n) * ln(1-x_n))\n",
    "    :param input:\n",
    "    :param output:\n",
    "    :param use_logit:\n",
    "    :return:\n",
    "    \"\"\"\n",
    "    if use_logit:\n",
    "        input = torch.sigmoid(input)\n",
    "\n",
    "    output = - ((target * torch.log(input)) + (1. - target) * torch.log(1. - input))\n",
    "\n",
    "    return torch.mean(output)"
   ]
  },
  {
   "cell_type": "code",
   "execution_count": 4,
   "metadata": {},
   "outputs": [
    {
     "name": "stdout",
     "output_type": "stream",
     "text": [
      "tensor([[ 1.2372, -0.9604],\n",
      "        [ 1.5415, -0.4079]])\n"
     ]
    }
   ],
   "source": [
    "torch.random.manual_seed(2020)\n",
    "\n",
    "input = torch.randn(2, 2)\n",
    "\n",
    "multi_label_target = torch.tensor([[1, 0],\n",
    "                                   [0, 1]], dtype=torch.float32)\n",
    "multi_class_target = torch.tensor([0, 1], dtype=torch.long)\n",
    "print(input)"
   ]
  },
  {
   "cell_type": "code",
   "execution_count": 5,
   "metadata": {},
   "outputs": [],
   "source": [
    "m_0 = nn.Sigmoid()\n",
    "m_1 = nn.Softmax(dim=1)\n",
    "\n",
    "bce_criterion = nn.BCELoss()\n",
    "ce_criterion = nn.CrossEntropyLoss()"
   ]
  },
  {
   "cell_type": "code",
   "execution_count": 6,
   "metadata": {},
   "outputs": [
    {
     "name": "stdout",
     "output_type": "stream",
     "text": [
      "tensor(0.8080)\n",
      "tensor(0.8080)\n"
     ]
    }
   ],
   "source": [
    "output_0 = bce_criterion(m_0(input), multi_label_target)\n",
    "output_1 = binary_cross_entropy_loss(input, multi_label_target, use_logit=True)\n",
    "\n",
    "output_2 = ce_criterion(input, multi_class_target)\n",
    "output_3 = cross_entropy_loss(input, multi_class_target, use_logit=True)\n",
    "\n",
    "\n",
    "print(output_0)\n",
    "print(output_1)\n"
   ]
  },
  {
   "cell_type": "code",
   "execution_count": 7,
   "metadata": {},
   "outputs": [
    {
     "name": "stdout",
     "output_type": "stream",
     "text": [
      "tensor(1.0939)\n",
      "tensor(1.0939)\n"
     ]
    }
   ],
   "source": [
    "output_2 = ce_criterion(input, multi_class_target)\n",
    "output_3 = cross_entropy_loss(input, multi_class_target, use_logit=True)\n",
    "\n",
    "print(output_2)\n",
    "print(output_3)"
   ]
  }
 ],
 "metadata": {
  "kernelspec": {
   "display_name": "pytorch",
   "language": "python",
   "name": "pytorch"
  },
  "language_info": {
   "codemirror_mode": {
    "name": "ipython",
    "version": 3
   },
   "file_extension": ".py",
   "mimetype": "text/x-python",
   "name": "python",
   "nbconvert_exporter": "python",
   "pygments_lexer": "ipython3",
   "version": "3.6.8"
  }
 },
 "nbformat": 4,
 "nbformat_minor": 4
}
